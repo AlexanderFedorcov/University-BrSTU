{
 "cells": [
  {
   "cell_type": "code",
   "execution_count": 17,
   "id": "3029cb30-c9e2-496b-9157-ad39a70251af",
   "metadata": {},
   "outputs": [],
   "source": [
    "import numpy as np\n",
    "import scipy\n",
    "import scipy.spatial\n",
    "import matplotlib.pyplot as plt\n",
    "from math import sqrt, dist\n",
    "import scipy.sparse as sp\n",
    "import scipy.sparse.linalg as spln\n",
    "from scipy.stats import multivariate_normal"
   ]
  },
  {
   "cell_type": "code",
   "execution_count": 4,
   "id": "d3376186-f103-4031-9df7-c5d401e64faf",
   "metadata": {},
   "outputs": [
    {
     "name": "stdout",
     "output_type": "stream",
     "text": [
      "Python: 273 ns ± 0.921 ns per loop (mean ± std. dev. of 7 runs, 1000000 loops each)\n",
      "NumPy: 4.65 µs ± 16.9 ns per loop (mean ± std. dev. of 7 runs, 100000 loops each)\n"
     ]
    }
   ],
   "source": [
    "arr_pth = [[1, 0, 1], [2, 0, 2], [3, 0, 3], [4, 4, 4]]\n",
    "arr_np = np.array(arr_py)\n",
    "\n",
    "def task_1_pth(arr):\n",
    "    comp = 1\n",
    "    for i in range(len(arr[0])):\n",
    "        element = arr[i][i]\n",
    "        if element:\n",
    "            comp *= element\n",
    "    return comp\n",
    "\n",
    "\n",
    "def task_1_np(arr):\n",
    "    dig = np.diag(arr)\n",
    "    return np.prod(dig[dig != 0])\n",
    "\n",
    "\n",
    "print(\"Python:\", end=\" \")\n",
    "%timeit task_1_pth(arr_pth)\n",
    "print(\"NumPy:\", end=\" \")\n",
    "%timeit task_1_np(arr_pth)\n"
   ]
  },
  {
   "cell_type": "code",
   "execution_count": 11,
   "id": "7a1dc879-f062-4f31-8f45-1d1ba318e2bc",
   "metadata": {},
   "outputs": [
    {
     "name": "stdout",
     "output_type": "stream",
     "text": [
      "Python: 370 ns ± 1.59 ns per loop (mean ± std. dev. of 7 runs, 1000000 loops each)\n",
      "NumPy: 545 ns ± 6.94 ns per loop (mean ± std. dev. of 7 runs, 1000000 loops each)\n"
     ]
    }
   ],
   "source": [
    "arr_pth2 = [[9, 4, 2], [6, 0, 0], [9, 9, 3]]\n",
    "i_pth = [1, 2, 1]\n",
    "j_pth = [1, 0, 1]\n",
    "\n",
    "arr_np2 = np.array(arr_pth2)\n",
    "i_np = np.array(i_pth)\n",
    "j_np = np.array(j_pth)\n",
    "\n",
    "\n",
    "def task_2_pth(arr, i, j):\n",
    "    result_array = []\n",
    "    for index in range(len(i)):\n",
    "        result_array.append(arr[i[index]][j[index]])\n",
    "    return result_array\n",
    "\n",
    "\n",
    "def task_2_np(arr, i, j):\n",
    "    return arr[i, j]\n",
    "\n",
    "\n",
    "print(\"Python:\", end=\" \")\n",
    "%timeit task_2_pth(arr_pth2, i_pth, j_pth)\n",
    "print(\"NumPy:\", end=\" \")\n",
    "%timeit task_2_np(arr_np2, i_np, j_np)"
   ]
  },
  {
   "cell_type": "code",
   "execution_count": 23,
   "id": "592aadb8-37fc-422e-ab0f-d6f524fe3254",
   "metadata": {},
   "outputs": [
    {
     "name": "stdout",
     "output_type": "stream",
     "text": [
      "Python: 223 ns ± 0.87 ns per loop (mean ± std. dev. of 7 runs, 1000000 loops each)\n",
      "NumPy: 2.9 µs ± 3.76 ns per loop (mean ± std. dev. of 7 runs, 100000 loops each)\n"
     ]
    }
   ],
   "source": [
    "x_pth = [1, 2, 2, 4]\n",
    "y_pth = [4, 2, 1, 2]\n",
    "\n",
    "x_np = np.array(x_pth)\n",
    "y_np = np.array(y_pth)\n",
    "\n",
    "\n",
    "def task_3_pth(arr1, arr2):\n",
    "    return sorted(arr1) == sorted(arr2)\n",
    "\n",
    "\n",
    "def task_3_np(arr1, arr2):\n",
    "    return np.array_equal(np.bincount(arr1), np.bincount(arr2))\n",
    "\n",
    "\n",
    "print(\"Python:\", end=\" \")\n",
    "%timeit task_3_pth(x_pth, y_pth)\n",
    "print(\"NumPy:\", end=\" \")\n",
    "%timeit task_3_np(x_np, x_np)"
   ]
  },
  {
   "cell_type": "code",
   "execution_count": 16,
   "id": "22c68e93-a7e6-423a-917a-da2094545ef7",
   "metadata": {},
   "outputs": [
    {
     "name": "stdout",
     "output_type": "stream",
     "text": [
      "Python: 512 ns ± 1.47 ns per loop (mean ± std. dev. of 7 runs, 1000000 loops each)\n",
      "NumPy: 1.41 µs ± 3.75 ns per loop (mean ± std. dev. of 7 runs, 1000000 loops each)\n"
     ]
    }
   ],
   "source": [
    "x_pth = [6, 2, 0, 3, 0, 0, 5, 7, 0]\n",
    "x_np = np.array(x_pth)\n",
    "\n",
    "\n",
    "def task_4_pth(arr):\n",
    "    counter = 0\n",
    "    for i in range(1, len(arr)):\n",
    "        if not arr[i-1]:\n",
    "            continue\n",
    "        new_element = arr[i]\n",
    "        if new_element > counter:\n",
    "            counter = new_element\n",
    "    return counter\n",
    "\n",
    "\n",
    "def task_4_np(arr):\n",
    "    zero = arr == 0\n",
    "    return arr[1:][zero[:-1]].max()\n",
    "\n",
    "\n",
    "print(\"Python:\", end=\" \")\n",
    "%timeit task_4_pth(x_pth)\n",
    "print(\"NumPy:\", end=\" \")\n",
    "%timeit task_4_np(x_np)"
   ]
  },
  {
   "cell_type": "code",
   "execution_count": 9,
   "id": "a216ed33-4d4d-49d4-b2a0-ad4c5d143573",
   "metadata": {},
   "outputs": [
    {
     "name": "stdout",
     "output_type": "stream",
     "text": [
      "Python: 26.4 ms ± 82.8 µs per loop (mean ± std. dev. of 7 runs, 10 loops each)\n",
      "NumPy: 1.43 ms ± 9.06 µs per loop (mean ± std. dev. of 7 runs, 1000 loops each)\n"
     ]
    }
   ],
   "source": [
    "photo_arr_np = plt.imread(\"./img.png\")\n",
    "photo_arr_pth = photo_arr_np.tolist()\n",
    "rgb_ration_pth = [0.298, 0.587, 0.114]\n",
    "rgb_ration_np = np.array(rgb_ration_pth)\n",
    "\n",
    "\n",
    "def task_5_pth(arr, rgb_ration):\n",
    "    result_array = []\n",
    "    for height in arr:\n",
    "        new_width = []\n",
    "        for width in height:\n",
    "            color = 0\n",
    "            for i in range(3):\n",
    "                color += width[i] * rgb_ration[i]\n",
    "            new_width.append(color)\n",
    "        result_array.append(new_width)\n",
    "    return result_array\n",
    "\n",
    "\n",
    "def task_5_np(arr, rgb_ration):\n",
    "    return np.dot(arr[..., :3], rgb_ration)\n",
    "\n",
    "# arr_py = task_5_np(photo_arr_np, rgb_ration_np)\n",
    "# plt.imshow(arr_py, cmap='gray')\n",
    "# plt.show()\n",
    "\n",
    "print(\"Python:\", end=\" \")\n",
    "%timeit task_5_pth(photo_arr_pth, rgb_ration_pth)\n",
    "print(\"NumPy:\", end=\" \")\n",
    "%timeit task_5_np(photo_arr_np, rgb_ration_np)"
   ]
  },
  {
   "cell_type": "code",
   "execution_count": 12,
   "id": "99615ce9-5c54-4009-b6bd-fb1ec872838b",
   "metadata": {},
   "outputs": [
    {
     "name": "stdout",
     "output_type": "stream",
     "text": [
      "Python: 1.18 µs ± 9.95 ns per loop (mean ± std. dev. of 7 runs, 1000000 loops each)\n",
      "NumPy: 903 ns ± 6.95 ns per loop (mean ± std. dev. of 7 runs, 1000000 loops each)\n"
     ]
    }
   ],
   "source": [
    "arr_pth = [2, 2, 2, 3, 3, 3, 5]\n",
    "arr_np = np.array(arr_pth)\n",
    "\n",
    "\n",
    "def task_6_pth(arr):\n",
    "    bin_arr = [0 for _ in range(max(arr)+1)]\n",
    "    for item in arr:\n",
    "        bin_arr[item] += 1\n",
    "    \n",
    "    arr1, arr2 = [], []\n",
    "    for i in range(len(bin_arr)):\n",
    "        element = bin_arr[i]\n",
    "        if not element:\n",
    "            continue\n",
    "        arr1.append(i)\n",
    "        arr2.append(element)\n",
    "    return arr1, arr2\n",
    "\n",
    "\n",
    "def task_6_np(arr):\n",
    "    bin_count = np.bincount(arr)\n",
    "    non_zero_indexes = np.nonzero(bin_count)[0]\n",
    "    return non_zero_indexes, bin_count[non_zero_indexes]\n",
    "\n",
    "\n",
    "print(\"Python:\", end=\" \")\n",
    "%timeit task_6_pth(arr_pth)\n",
    "print(\"NumPy:\", end=\" \")\n",
    "%timeit task_6_np(arr_np)"
   ]
  },
  {
   "cell_type": "code",
   "execution_count": 16,
   "id": "87c8716d-b6c9-4b1d-88e0-c5a7ac6fab75",
   "metadata": {},
   "outputs": [
    {
     "name": "stdout",
     "output_type": "stream",
     "text": [
      "Python: 197 ns ± 0.464 ns per loop (mean ± std. dev. of 7 runs, 1000000 loops each)\n",
      "NumPy: 2.27 µs ± 369 ns per loop (mean ± std. dev. of 7 runs, 100000 loops each)\n",
      "Scipy: 3.06 µs ± 44.3 ns per loop (mean ± std. dev. of 7 runs, 100000 loops each)\n"
     ]
    }
   ],
   "source": [
    "arr_x_pth = [2, 7, 6, 6, 9, 6, 3, 4, 9]\n",
    "arr_y_pth = [1, 0, 0, 7, 2, 2, 4, 3, 0]\n",
    "\n",
    "arr_x_np = np.array(arr_x_pth)\n",
    "arr_y_np = np.array(arr_y_pth)\n",
    "\n",
    "\n",
    "def task_7_np(arr_x, arr_y):\n",
    "    return np.linalg.norm(arr_x - arr_y)\n",
    "\n",
    "\n",
    "print(\"Python:\", end=\" \")\n",
    "%timeit dist(arr_x_pth, arr_y_pth)\n",
    "print(\"NumPy:\", end=\" \")\n",
    "%timeit task_7_np(arr_x_np, arr_y_np)\n",
    "print(\"Scipy:\", end=\" \")\n",
    "%timeit scipy.spatial.distance.euclidean(arr_x_np, arr_y_np)"
   ]
  },
  {
   "cell_type": "code",
   "execution_count": 23,
   "id": "392da86e-706e-409f-aa87-64cdb0272d64",
   "metadata": {},
   "outputs": [
    {
     "name": "stdout",
     "output_type": "stream",
     "text": [
      "NumPy: 84.4 µs ± 249 ns per loop (mean ± std. dev. of 7 runs, 10000 loops each)\n",
      "Value NumPy = -5.054836210528194\n",
      "Scipy: 51.5 µs ± 708 ns per loop (mean ± std. dev. of 7 runs, 10000 loops each)\n",
      "Value Scipy = -5.054836210528194\n"
     ]
    }
   ],
   "source": [
    "sigma = np.array([\n",
    "    [2.3, 0, 0, 0],\n",
    "    [0, 1.5, 0, 0],\n",
    "    [0, 0, 1.7, 0],\n",
    "    [0, 0, 0, 2]\n",
    "])\n",
    "\n",
    "mu = np.array([2, 3, 8, 10])\n",
    "x = np.array([2.1, 3.5, 8, 9.5])\n",
    "\n",
    "\n",
    "def lognormpdf(x, mu, S):\n",
    "    norm_ratio = len(S) * np.log(2*np.pi) + np.linalg.slogdet(S)[1]\n",
    "    err = x - mu\n",
    "    numerator = spln.spsolve(S, err).T.dot(err)\n",
    "    return -0.5 * (norm_ratio + numerator)\n",
    "\n",
    "\n",
    "print(\"NumPy:\", end=\" \")\n",
    "%timeit lognormpdf(x, mu, sigma)\n",
    "res1 = lognormpdf(x, mu, sigma)\n",
    "print(\"Value NumPy =\", res1)\n",
    "\n",
    "print(\"Scipy:\", end=\" \")\n",
    "%timeit multivariate_normal(mu, sigma).logpdf(x)\n",
    "res2 = multivariate_normal(mu, sigma).logpdf(x)\n",
    "print(\"Value Scipy =\", res2)"
   ]
  },
  {
   "cell_type": "code",
   "execution_count": null,
   "id": "b9b75438-cd3f-4269-8787-12a02f209be6",
   "metadata": {},
   "outputs": [],
   "source": []
  }
 ],
 "metadata": {
  "kernelspec": {
   "display_name": "Python 3 (ipykernel)",
   "language": "python",
   "name": "python3"
  },
  "language_info": {
   "codemirror_mode": {
    "name": "ipython",
    "version": 3
   },
   "file_extension": ".py",
   "mimetype": "text/x-python",
   "name": "python",
   "nbconvert_exporter": "python",
   "pygments_lexer": "ipython3",
   "version": "3.10.0"
  }
 },
 "nbformat": 4,
 "nbformat_minor": 5
}
