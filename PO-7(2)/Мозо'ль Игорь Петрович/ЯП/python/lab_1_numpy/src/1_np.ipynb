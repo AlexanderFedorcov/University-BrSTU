{
 "cells": [
  {
   "cell_type": "code",
   "execution_count": 4,
   "id": "6c8e6094-c1c6-4e27-9c25-701f484e1e47",
   "metadata": {},
   "outputs": [],
   "source": [
    "import numpy as np\n",
    "from PIL import Image\n",
    "import math\n",
    "from scipy.stats import multivariate_normal\n",
    "from numba import njit"
   ]
  },
  {
   "cell_type": "code",
   "execution_count": 5,
   "id": "dfbb651d-4441-438d-b205-e2b5634594b6",
   "metadata": {},
   "outputs": [],
   "source": [
    "matrix =[[1, 0, 1],\n",
    "         [2, 0, 2],\n",
    "         [3, 0, 3],\n",
    "         [4, 4, 4]]\n",
    "def numpy_1(matrix):\n",
    "    matrix = np.array(matrix)\n",
    "    return matrix.diagonal()[matrix.diagonal() != 0].prod()\n",
    "\n",
    "def standart_1(matrix):\n",
    "    res = 1\n",
    "    for ind, m in enumerate(matrix):\n",
    "        if len(m) <= ind:\n",
    "            return res\n",
    "        res *= m[ind] if m[ind] != 0 else 1\n",
    "    return res\n",
    "\n",
    "@njit\n",
    "def numba_1():\n",
    "    matrix =[[1, 0, 1],\n",
    "         [2, 0, 2],\n",
    "         [3, 0, 3],\n",
    "         [4, 4, 4]]\n",
    "    res = 1\n",
    "    for ind, m in enumerate(matrix):\n",
    "        if len(m) <= ind:\n",
    "            return res\n",
    "        res *= m[ind] if m[ind] != 0 else 1\n",
    "    return res"
   ]
  },
  {
   "cell_type": "code",
   "execution_count": 26,
   "id": "25630911-aed2-4369-bdd5-8685c21abad5",
   "metadata": {},
   "outputs": [
    {
     "name": "stdout",
     "output_type": "stream",
     "text": [
      "3.17 µs ± 11.5 ns per loop (mean ± std. dev. of 7 runs, 100000 loops each)\n",
      "390 ns ± 0.857 ns per loop (mean ± std. dev. of 7 runs, 1000000 loops each)\n",
      "561 ns ± 7.47 ns per loop (mean ± std. dev. of 7 runs, 1000000 loops each)\n"
     ]
    }
   ],
   "source": [
    "%timeit numpy_1(matrix)\n",
    "%timeit standart_1(matrix)\n",
    "%timeit numba_1()"
   ]
  },
  {
   "cell_type": "code",
   "execution_count": 7,
   "id": "4e08ae6e-a5d1-4f40-96fa-ca77b0ba82b3",
   "metadata": {},
   "outputs": [],
   "source": [
    "def numpy_2():\n",
    "    x = np.array([[9, 4, 2], [6, 0, 0], [9, 9, 3]])\n",
    "    i = np.array([1, 2, 1])\n",
    "    j = np.array([1, 0, 1])\n",
    "    return x[i, j]\n",
    "\n",
    "def standart_2():\n",
    "    x = [[9, 4, 2], [6, 0, 0], [9, 9, 3]]\n",
    "    i = [1, 2, 1]\n",
    "    j = [1, 0, 1]\n",
    "    return [x[i[ind]][j[ind]] for ind in range(len(i))]\n",
    "\n",
    "@njit\n",
    "def numba_2():\n",
    "    x = [[9, 4, 2], [6, 0, 0], [9, 9, 3]]\n",
    "    i = [1, 2, 1]\n",
    "    j = [1, 0, 1]\n",
    "    return [x[i[ind]][j[ind]] for ind in range(len(i))]"
   ]
  },
  {
   "cell_type": "code",
   "execution_count": 8,
   "id": "cab9e2f8-2b60-43f1-a64d-17a9b54f7c58",
   "metadata": {},
   "outputs": [
    {
     "name": "stdout",
     "output_type": "stream",
     "text": [
      "2.68 µs ± 10.6 ns per loop (mean ± std. dev. of 7 runs, 100000 loops each)\n",
      "543 ns ± 2 ns per loop (mean ± std. dev. of 7 runs, 1000000 loops each)\n",
      "927 ns ± 13.7 ns per loop (mean ± std. dev. of 7 runs, 1000000 loops each)\n"
     ]
    }
   ],
   "source": [
    "%timeit numpy_2()\n",
    "%timeit standart_2()\n",
    "%timeit numba_2()"
   ]
  },
  {
   "cell_type": "code",
   "execution_count": 14,
   "id": "f81f0f89-40c0-4d2a-bde6-617629fa1aca",
   "metadata": {},
   "outputs": [],
   "source": [
    "def numpy_3():\n",
    "    x = np.array([1, 2, 2, 4])\n",
    "    y = np.array([4, 2, 1, 2])\n",
    "    x.sort()\n",
    "    y.sort()\n",
    "    return all(x == y)\n",
    "\n",
    "def standart_3():\n",
    "    X, Y = [1, 2, 2, 4], [4, 2, 1, 2]\n",
    "    return set(sorted(X)) == set(sorted(Y))\n",
    "\n",
    "@njit\n",
    "def numba_3():\n",
    "    X, Y = [1, 2, 2, 4], [4, 2, 1, 2]\n",
    "    return set(sorted(X)) == set(sorted(Y))"
   ]
  },
  {
   "cell_type": "code",
   "execution_count": 15,
   "id": "8794b1af-664f-4c16-afdf-cec52a2d54d0",
   "metadata": {},
   "outputs": [
    {
     "name": "stdout",
     "output_type": "stream",
     "text": [
      "1.81 µs ± 12.5 ns per loop (mean ± std. dev. of 7 runs, 1000000 loops each)\n",
      "447 ns ± 2.31 ns per loop (mean ± std. dev. of 7 runs, 1000000 loops each)\n",
      "1.42 µs ± 20.7 ns per loop (mean ± std. dev. of 7 runs, 1000000 loops each)\n"
     ]
    }
   ],
   "source": [
    "%timeit numpy_3()\n",
    "%timeit standart_3()\n",
    "%timeit numba_3()"
   ]
  },
  {
   "cell_type": "code",
   "execution_count": 16,
   "id": "227de9ca-1256-4992-b008-a9847fae56fc",
   "metadata": {},
   "outputs": [],
   "source": [
    "def numpy_4():\n",
    "    x = np.array([6, 2, 0, 3, 0, 0, 5, 0, 7])\n",
    "    return x[1:][(x == 0)[:-1]].max()\n",
    "    \n",
    "def standart_4():\n",
    "    x = [6, 2, 0, 3, 0, 0, 5, 7, 0]\n",
    "    y = [x[ind + 1] for ind in range(len(x) - 1) if x[ind] == 0]\n",
    "    return max(y)\n",
    "\n",
    "@njit\n",
    "def numba_4():\n",
    "    x = [6, 2, 0, 3, 0, 0, 5, 7, 0]\n",
    "    y = [x[ind + 1] for ind in range(len(x) - 1) if x[ind] == 0]\n",
    "    return max(y)"
   ]
  },
  {
   "cell_type": "code",
   "execution_count": 28,
   "id": "a757fdba-e668-4be0-810c-90f7250f5424",
   "metadata": {},
   "outputs": [
    {
     "name": "stdout",
     "output_type": "stream",
     "text": [
      "2.26 µs ± 9.14 ns per loop (mean ± std. dev. of 7 runs, 100000 loops each)\n",
      "674 ns ± 3.25 ns per loop (mean ± std. dev. of 7 runs, 1000000 loops each)\n",
      "320 ns ± 1.65 ns per loop (mean ± std. dev. of 7 runs, 1000000 loops each)\n"
     ]
    }
   ],
   "source": [
    "%timeit numpy_4()\n",
    "%timeit standart_4()\n",
    "%timeit numba_4()"
   ]
  },
  {
   "cell_type": "code",
   "execution_count": 29,
   "id": "c5fd38b8-5c90-4095-a249-f87d16863a40",
   "metadata": {},
   "outputs": [],
   "source": [
    "def numpy_5():\n",
    "    myImage = Image.open('img.jpg')\n",
    "    np_im, grey = np.array(myImage), np.array([0.299, 0.587, 0.114])\n",
    "    new_image = Image.fromarray(np.dot(np_im, grey))\n",
    "    return new_image\n",
    "    \n",
    "def standart_5():\n",
    "    myImage = Image.open('img.jpg')\n",
    "    pixels = myImage.load()\n",
    "    width, height = myImage.size\n",
    "    for x in range(width):\n",
    "        for y in range(height):\n",
    "            R, G, B = pixels[x, y]\n",
    "            S = round(0.299 * R + 0.587 * G + 0.114 * B)\n",
    "            myImage.putpixel((x, y), (S, S, S))\n",
    "    return myImage\n",
    "\n",
    "def outher_5():\n",
    "    myImage = Image.open('img.jpg')\n",
    "    pixels = np.array(myImage)\n",
    "    height, width = len(pixels), len(pixels[0])\n",
    "    for x in range(height):\n",
    "        for y in range(width):\n",
    "            S = round(0.299 * pixels[x, y][0] + 0.587 * pixels[x, y][1] + 0.114 * pixels[x, y][2])\n",
    "            pixels[x, y] = [S, S, S]\n",
    "    myImage = Image.fromarray(pixels)\n",
    "    return myImage"
   ]
  },
  {
   "cell_type": "code",
   "execution_count": 30,
   "id": "6b9b3527-22ea-4335-816a-42983130a880",
   "metadata": {},
   "outputs": [
    {
     "name": "stdout",
     "output_type": "stream",
     "text": [
      "2.19 ms ± 112 µs per loop (mean ± std. dev. of 7 runs, 100 loops each)\n",
      "86.4 ms ± 629 µs per loop (mean ± std. dev. of 7 runs, 10 loops each)\n",
      "341 ms ± 447 µs per loop (mean ± std. dev. of 7 runs, 1 loop each)\n"
     ]
    }
   ],
   "source": [
    "%timeit numpy_5()\n",
    "%timeit standart_5()\n",
    "%timeit outher_5()"
   ]
  },
  {
   "cell_type": "code",
   "execution_count": 31,
   "id": "9723ee66-5cf2-4739-9e39-1f5bac651c5e",
   "metadata": {},
   "outputs": [],
   "source": [
    "def numpy_6():\n",
    "    x = np.array([2, 2, 2, 3, 3, 5])\n",
    "    return np.unique(np.array(x), return_counts=True)\n",
    "    \n",
    "def standart_6():\n",
    "    x = [2, 2, 2, 3, 3, 5]\n",
    "    values = list(set(x))\n",
    "    return [values, [x.count(value) for value in values]]\n",
    "\n",
    "@njit\n",
    "def numba_6():\n",
    "    x = [2, 2, 2, 3, 3, 5]\n",
    "    values = list(set(x))\n",
    "    return [values, [x.count(value) for value in values]]"
   ]
  },
  {
   "cell_type": "code",
   "execution_count": 32,
   "id": "7cc0966b-8ffe-4a22-9ede-79afef51a2ed",
   "metadata": {},
   "outputs": [
    {
     "name": "stdout",
     "output_type": "stream",
     "text": [
      "6.63 µs ± 23 ns per loop (mean ± std. dev. of 7 runs, 100000 loops each)\n",
      "588 ns ± 2.83 ns per loop (mean ± std. dev. of 7 runs, 1000000 loops each)\n",
      "781 ns ± 6.42 ns per loop (mean ± std. dev. of 7 runs, 1000000 loops each)\n"
     ]
    }
   ],
   "source": [
    "%timeit numpy_6()\n",
    "%timeit standart_6()\n",
    "%timeit numba_6()"
   ]
  },
  {
   "cell_type": "code",
   "execution_count": 33,
   "id": "aa66a2fd-097c-463d-8abc-a50539d74e8d",
   "metadata": {},
   "outputs": [],
   "source": [
    "def numpy_7():\n",
    "    x = np.array([2, 7, 6, 6, 9, 6, 3, 4, 9])\n",
    "    y = np.array([1, 0, 0, 7, 2, 2, 4, 3, 0])\n",
    "    return np.linalg.norm(x - y)\n",
    "    \n",
    "def standart_7():\n",
    "    x = [2, 7, 6, 6, 9, 6, 3, 4, 9]\n",
    "    y = [1, 0, 0, 7, 2, 2, 4, 3, 0]\n",
    "    return math.sqrt(sum([(x[ind] - y[ind]) ** 2 for ind in range(len(x))]))\n",
    "\n",
    "@njit\n",
    "def numba_7():\n",
    "    x = [2, 7, 6, 6, 9, 6, 3, 4, 9]\n",
    "    y = [1, 0, 0, 7, 2, 2, 4, 3, 0]\n",
    "    return math.sqrt(sum([(x[ind] - y[ind]) ** 2 for ind in range(len(x))]))"
   ]
  },
  {
   "cell_type": "code",
   "execution_count": 34,
   "id": "7a8fc7be-bbe3-4c88-8a85-6f8bda09d456",
   "metadata": {},
   "outputs": [
    {
     "name": "stdout",
     "output_type": "stream",
     "text": [
      "3.67 µs ± 12.6 ns per loop (mean ± std. dev. of 7 runs, 100000 loops each)\n",
      "2.23 µs ± 14.8 ns per loop (mean ± std. dev. of 7 runs, 100000 loops each)\n",
      "423 ns ± 7.59 ns per loop (mean ± std. dev. of 7 runs, 1000000 loops each)\n"
     ]
    }
   ],
   "source": [
    "%timeit numpy_7()\n",
    "%timeit standart_7()\n",
    "%timeit numba_7()"
   ]
  },
  {
   "cell_type": "code",
   "execution_count": 35,
   "id": "8d714e5a-0d59-4642-a8ef-4999c04cd204",
   "metadata": {},
   "outputs": [],
   "source": [
    "N, D = 5, 6\n",
    "X, cov, m = np.random.rand(N, D), np.random.rand(D, D), np.random.rand(D)\n",
    "\n",
    "def numpy_8():\n",
    "    return np.random.multivariate_normal(mean = m, cov = cov)\n",
    "\n",
    "def scipy_8():\n",
    "     return [multivariate_normal(mean = 1, cov = 1).pdf(x) for x in X]"
   ]
  },
  {
   "cell_type": "code",
   "execution_count": 36,
   "id": "ffe2353c-8691-43c4-915b-8123f31bb3a8",
   "metadata": {},
   "outputs": [
    {
     "name": "stderr",
     "output_type": "stream",
     "text": [
      "/var/folders/8g/w_p3gcdj2nb8gs0xxmvl45_r0000gn/T/ipykernel_4474/1735947520.py:5: RuntimeWarning: covariance is not positive-semidefinite.\n",
      "  return np.random.multivariate_normal(mean = m, cov = cov)\n"
     ]
    },
    {
     "name": "stdout",
     "output_type": "stream",
     "text": [
      "30.1 µs ± 74.2 ns per loop (mean ± std. dev. of 7 runs, 10000 loops each)\n",
      "283 µs ± 1.54 µs per loop (mean ± std. dev. of 7 runs, 1000 loops each)\n"
     ]
    }
   ],
   "source": [
    "%timeit numpy_8()\n",
    "%timeit scipy_8()"
   ]
  },
  {
   "cell_type": "code",
   "execution_count": null,
   "id": "f1e9f7d9-2728-4387-8b38-8733a6609d86",
   "metadata": {},
   "outputs": [],
   "source": []
  }
 ],
 "metadata": {
  "kernelspec": {
   "display_name": "Python 3 (ipykernel)",
   "language": "python",
   "name": "python3"
  },
  "language_info": {
   "codemirror_mode": {
    "name": "ipython",
    "version": 3
   },
   "file_extension": ".py",
   "mimetype": "text/x-python",
   "name": "python",
   "nbconvert_exporter": "python",
   "pygments_lexer": "ipython3",
   "version": "3.8.12"
  }
 },
 "nbformat": 4,
 "nbformat_minor": 5
}
