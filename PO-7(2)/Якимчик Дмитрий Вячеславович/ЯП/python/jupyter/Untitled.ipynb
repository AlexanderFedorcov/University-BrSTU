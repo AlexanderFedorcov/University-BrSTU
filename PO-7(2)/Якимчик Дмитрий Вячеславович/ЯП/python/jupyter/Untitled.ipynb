{
 "cells": [
  {
   "cell_type": "code",
   "execution_count": 1,
   "id": "bba72519-70a0-4351-a23d-3e565f16b793",
   "metadata": {},
   "outputs": [],
   "source": [
    "import numpy as np\n",
    "from PIL import Image\n",
    "import math\n",
    "from scipy.stats import multivariate_normal\n",
    "from numba import njit"
   ]
  },
  {
   "cell_type": "code",
   "execution_count": 2,
   "id": "0342cf38-3e11-45ec-a2a1-d6652a7b695c",
   "metadata": {},
   "outputs": [],
   "source": [
    "matrix =[[1, 0, 1],\n",
    "         [2, 0, 2],\n",
    "         [3, 0, 3],\n",
    "         [4, 4, 4]]\n",
    "def numpy_1(matrix):\n",
    "    matrix = np.array(matrix)\n",
    "    return matrix.diagonal()[matrix.diagonal() != 0].prod()\n",
    "\n",
    "def standart_1(matrix):\n",
    "    res = 1\n",
    "    for ind, m in enumerate(matrix):\n",
    "        if len(m) <= ind:\n",
    "            return res\n",
    "        res *= m[ind] if m[ind] != 0 else 1\n",
    "    return res\n",
    "\n",
    "@njit\n",
    "def numba_1():\n",
    "    matrix =[[1, 0, 1],\n",
    "         [2, 0, 2],\n",
    "         [3, 0, 3],\n",
    "         [4, 4, 4]]\n",
    "    res = 1\n",
    "    for ind, m in enumerate(matrix):\n",
    "        if len(m) <= ind:\n",
    "            return res\n",
    "        res *= m[ind] if m[ind] != 0 else 1\n",
    "    return res"
   ]
  },
  {
   "cell_type": "code",
   "execution_count": 3,
   "id": "2f79a44f-8fee-49a7-836d-5f55d7ea5aa1",
   "metadata": {},
   "outputs": [
    {
     "name": "stdout",
     "output_type": "stream",
     "text": [
      "6.58 µs ± 274 ns per loop (mean ± std. dev. of 7 runs, 100000 loops each)\n",
      "484 ns ± 18 ns per loop (mean ± std. dev. of 7 runs, 1000000 loops each)\n",
      "The slowest run took 14.83 times longer than the fastest. This could mean that an intermediate result is being cached.\n",
      "2.07 µs ± 2.81 µs per loop (mean ± std. dev. of 7 runs, 1 loop each)\n"
     ]
    }
   ],
   "source": [
    "%timeit numpy_1(matrix)\n",
    "%timeit standart_1(matrix)\n",
    "%timeit numba_1()"
   ]
  },
  {
   "cell_type": "code",
   "execution_count": 4,
   "id": "e91c148e-6f41-4dc2-a3da-d9a112bc3900",
   "metadata": {},
   "outputs": [],
   "source": [
    "def numpy_2():\n",
    "    x = np.array([[9, 4, 2], [6, 0, 0], [9, 9, 3]])\n",
    "    i = np.array([1, 2, 1])\n",
    "    j = np.array([1, 0, 1])\n",
    "    return x[i, j]\n",
    "\n",
    "def standart_2():\n",
    "    x = [[9, 4, 2], [6, 0, 0], [9, 9, 3]]\n",
    "    i = [1, 2, 1]\n",
    "    j = [1, 0, 1]\n",
    "    return [x[i[ind]][j[ind]] for ind in range(len(i))]\n",
    "\n",
    "@njit\n",
    "def numba_2():\n",
    "    x = [[9, 4, 2], [6, 0, 0], [9, 9, 3]]\n",
    "    i = [1, 2, 1]\n",
    "    j = [1, 0, 1]\n",
    "    return [x[i[ind]][j[ind]] for ind in range(len(i))]\n"
   ]
  },
  {
   "cell_type": "code",
   "execution_count": 5,
   "id": "0f6ee3c2-6c53-412b-8463-be7cbd373e95",
   "metadata": {},
   "outputs": [
    {
     "name": "stdout",
     "output_type": "stream",
     "text": [
      "6.06 µs ± 184 ns per loop (mean ± std. dev. of 7 runs, 100000 loops each)\n",
      "757 ns ± 39 ns per loop (mean ± std. dev. of 7 runs, 1000000 loops each)\n",
      "1.15 µs ± 71.6 ns per loop (mean ± std. dev. of 7 runs, 1000000 loops each)\n"
     ]
    }
   ],
   "source": [
    "%timeit numpy_2()\n",
    "%timeit standart_2()\n",
    "%timeit numba_2()"
   ]
  },
  {
   "cell_type": "code",
   "execution_count": 6,
   "id": "4d48ede6-d422-406a-86a1-a7c11273d53a",
   "metadata": {},
   "outputs": [],
   "source": [
    "def numpy_3():\n",
    "    x = np.array([1, 2, 2, 4])\n",
    "    y = np.array([4, 2, 1, 2])\n",
    "    x.sort()\n",
    "    y.sort()\n",
    "    return all(x == y)\n",
    "\n",
    "def standart_3():\n",
    "    X, Y = [1, 2, 2, 4], [4, 2, 1, 2]\n",
    "    return set(sorted(X)) == set(sorted(Y))\n",
    "\n",
    "@njit\n",
    "def numba_3():\n",
    "    X, Y = [1, 2, 2, 4], [4, 2, 1, 2]\n",
    "    return set(sorted(X)) == set(sorted(Y))"
   ]
  },
  {
   "cell_type": "code",
   "execution_count": 7,
   "id": "e72dc6d5-b604-4cdf-845d-220f2808c33a",
   "metadata": {},
   "outputs": [
    {
     "name": "stdout",
     "output_type": "stream",
     "text": [
      "3.36 µs ± 121 ns per loop (mean ± std. dev. of 7 runs, 100000 loops each)\n",
      "653 ns ± 23.3 ns per loop (mean ± std. dev. of 7 runs, 1000000 loops each)\n",
      "The slowest run took 9.83 times longer than the fastest. This could mean that an intermediate result is being cached.\n",
      "4.64 µs ± 5.39 µs per loop (mean ± std. dev. of 7 runs, 1 loop each)\n"
     ]
    }
   ],
   "source": [
    "%timeit numpy_3()\n",
    "%timeit standart_3()\n",
    "%timeit numba_3()"
   ]
  },
  {
   "cell_type": "code",
   "execution_count": 8,
   "id": "d9605c76-9a92-4b80-8cd7-7ccdb440d941",
   "metadata": {},
   "outputs": [],
   "source": [
    "def numpy_4():\n",
    "    x = np.array([6, 2, 0, 3, 0, 0, 5, 0, 7])\n",
    "    return x[1:][(x == 0)[:-1]].max()\n",
    "    \n",
    "def standart_4():\n",
    "    x = [6, 2, 0, 3, 0, 0, 5, 7, 0]\n",
    "    y = [x[ind + 1] for ind in range(len(x) - 1) if x[ind] == 0]\n",
    "    return max(y)\n",
    "\n",
    "@njit\n",
    "def numba_4():\n",
    "    x = [6, 2, 0, 3, 0, 0, 5, 7, 0]\n",
    "    y = [x[ind + 1] for ind in range(len(x) - 1) if x[ind] == 0]\n",
    "    return max(y)"
   ]
  },
  {
   "cell_type": "code",
   "execution_count": 9,
   "id": "f21450f1-0a02-4470-971c-0cfa5beacd83",
   "metadata": {},
   "outputs": [
    {
     "name": "stdout",
     "output_type": "stream",
     "text": [
      "5 µs ± 235 ns per loop (mean ± std. dev. of 7 runs, 100000 loops each)\n",
      "792 ns ± 25.6 ns per loop (mean ± std. dev. of 7 runs, 1000000 loops each)\n",
      "417 ns ± 22.6 ns per loop (mean ± std. dev. of 7 runs, 1000000 loops each)\n"
     ]
    }
   ],
   "source": [
    "%timeit numpy_4()\n",
    "%timeit standart_4()\n",
    "%timeit numba_4()"
   ]
  },
  {
   "cell_type": "code",
   "execution_count": 12,
   "id": "5f975506-fafa-44b8-9d71-aa062ad762f2",
   "metadata": {},
   "outputs": [],
   "source": [
    "def numpy_5():\n",
    "    myImage = Image.open('img.png')\n",
    "    np_im, grey = np.array(myImage), np.array([0.299, 0.587, 0.114])\n",
    "    new_image = Image.fromarray(np.dot(np_im, grey))\n",
    "    return new_image\n",
    "    \n",
    "def standart_5():\n",
    "    myImage = Image.open('img.png')\n",
    "    pixels = myImage.load()\n",
    "    width, height = myImage.size\n",
    "    for x in range(width):\n",
    "        for y in range(height):\n",
    "            R, G, B = pixels[x, y]\n",
    "            S = round(0.299 * R + 0.587 * G + 0.114 * B)\n",
    "            myImage.putpixel((x, y), (S, S, S))\n",
    "    return myImage\n",
    "\n",
    "def outher_5():\n",
    "    myImage = Image.open('img.png')\n",
    "    pixels = np.array(myImage)\n",
    "    height, width = len(pixels), len(pixels[0])\n",
    "    for x in range(height):\n",
    "        for y in range(width):\n",
    "            S = round(0.299 * pixels[x, y][0] + 0.587 * pixels[x, y][1] + 0.114 * pixels[x, y][2])\n",
    "            pixels[x, y] = [S, S, S]\n",
    "    myImage = Image.fromarray(pixels)\n",
    "    return myImage"
   ]
  },
  {
   "cell_type": "code",
   "execution_count": 11,
   "id": "9d86fe27-aff4-4b6f-a2cf-c8d7f9e4bfcb",
   "metadata": {},
   "outputs": [
    {
     "ename": "FileNotFoundError",
     "evalue": "[Errno 2] No such file or directory: 'img.jpg'",
     "output_type": "error",
     "traceback": [
      "\u001b[1;31m---------------------------------------------------------------------------\u001b[0m",
      "\u001b[1;31mFileNotFoundError\u001b[0m                         Traceback (most recent call last)",
      "\u001b[1;32m~\\AppData\\Local\\Temp/ipykernel_21428/293390236.py\u001b[0m in \u001b[0;36m<module>\u001b[1;34m\u001b[0m\n\u001b[1;32m----> 1\u001b[1;33m \u001b[0mget_ipython\u001b[0m\u001b[1;33m(\u001b[0m\u001b[1;33m)\u001b[0m\u001b[1;33m.\u001b[0m\u001b[0mrun_line_magic\u001b[0m\u001b[1;33m(\u001b[0m\u001b[1;34m'timeit'\u001b[0m\u001b[1;33m,\u001b[0m \u001b[1;34m'numpy_5()'\u001b[0m\u001b[1;33m)\u001b[0m\u001b[1;33m\u001b[0m\u001b[1;33m\u001b[0m\u001b[0m\n\u001b[0m\u001b[0;32m      2\u001b[0m \u001b[0mget_ipython\u001b[0m\u001b[1;33m(\u001b[0m\u001b[1;33m)\u001b[0m\u001b[1;33m.\u001b[0m\u001b[0mrun_line_magic\u001b[0m\u001b[1;33m(\u001b[0m\u001b[1;34m'timeit'\u001b[0m\u001b[1;33m,\u001b[0m \u001b[1;34m'standart_5()'\u001b[0m\u001b[1;33m)\u001b[0m\u001b[1;33m\u001b[0m\u001b[1;33m\u001b[0m\u001b[0m\n\u001b[0;32m      3\u001b[0m \u001b[0mget_ipython\u001b[0m\u001b[1;33m(\u001b[0m\u001b[1;33m)\u001b[0m\u001b[1;33m.\u001b[0m\u001b[0mrun_line_magic\u001b[0m\u001b[1;33m(\u001b[0m\u001b[1;34m'timeit'\u001b[0m\u001b[1;33m,\u001b[0m \u001b[1;34m'outher_5()'\u001b[0m\u001b[1;33m)\u001b[0m\u001b[1;33m\u001b[0m\u001b[1;33m\u001b[0m\u001b[0m\n",
      "\u001b[1;32md:\\lab_4\\venv\\lib\\site-packages\\IPython\\core\\interactiveshell.py\u001b[0m in \u001b[0;36mrun_line_magic\u001b[1;34m(self, magic_name, line, _stack_depth)\u001b[0m\n\u001b[0;32m   2362\u001b[0m                 \u001b[0mkwargs\u001b[0m\u001b[1;33m[\u001b[0m\u001b[1;34m'local_ns'\u001b[0m\u001b[1;33m]\u001b[0m \u001b[1;33m=\u001b[0m \u001b[0mself\u001b[0m\u001b[1;33m.\u001b[0m\u001b[0mget_local_scope\u001b[0m\u001b[1;33m(\u001b[0m\u001b[0mstack_depth\u001b[0m\u001b[1;33m)\u001b[0m\u001b[1;33m\u001b[0m\u001b[1;33m\u001b[0m\u001b[0m\n\u001b[0;32m   2363\u001b[0m             \u001b[1;32mwith\u001b[0m \u001b[0mself\u001b[0m\u001b[1;33m.\u001b[0m\u001b[0mbuiltin_trap\u001b[0m\u001b[1;33m:\u001b[0m\u001b[1;33m\u001b[0m\u001b[1;33m\u001b[0m\u001b[0m\n\u001b[1;32m-> 2364\u001b[1;33m                 \u001b[0mresult\u001b[0m \u001b[1;33m=\u001b[0m \u001b[0mfn\u001b[0m\u001b[1;33m(\u001b[0m\u001b[1;33m*\u001b[0m\u001b[0margs\u001b[0m\u001b[1;33m,\u001b[0m \u001b[1;33m**\u001b[0m\u001b[0mkwargs\u001b[0m\u001b[1;33m)\u001b[0m\u001b[1;33m\u001b[0m\u001b[1;33m\u001b[0m\u001b[0m\n\u001b[0m\u001b[0;32m   2365\u001b[0m             \u001b[1;32mreturn\u001b[0m \u001b[0mresult\u001b[0m\u001b[1;33m\u001b[0m\u001b[1;33m\u001b[0m\u001b[0m\n\u001b[0;32m   2366\u001b[0m \u001b[1;33m\u001b[0m\u001b[0m\n",
      "\u001b[1;32md:\\lab_4\\venv\\lib\\site-packages\\decorator.py\u001b[0m in \u001b[0;36mfun\u001b[1;34m(*args, **kw)\u001b[0m\n\u001b[0;32m    230\u001b[0m             \u001b[1;32mif\u001b[0m \u001b[1;32mnot\u001b[0m \u001b[0mkwsyntax\u001b[0m\u001b[1;33m:\u001b[0m\u001b[1;33m\u001b[0m\u001b[1;33m\u001b[0m\u001b[0m\n\u001b[0;32m    231\u001b[0m                 \u001b[0margs\u001b[0m\u001b[1;33m,\u001b[0m \u001b[0mkw\u001b[0m \u001b[1;33m=\u001b[0m \u001b[0mfix\u001b[0m\u001b[1;33m(\u001b[0m\u001b[0margs\u001b[0m\u001b[1;33m,\u001b[0m \u001b[0mkw\u001b[0m\u001b[1;33m,\u001b[0m \u001b[0msig\u001b[0m\u001b[1;33m)\u001b[0m\u001b[1;33m\u001b[0m\u001b[1;33m\u001b[0m\u001b[0m\n\u001b[1;32m--> 232\u001b[1;33m             \u001b[1;32mreturn\u001b[0m \u001b[0mcaller\u001b[0m\u001b[1;33m(\u001b[0m\u001b[0mfunc\u001b[0m\u001b[1;33m,\u001b[0m \u001b[1;33m*\u001b[0m\u001b[1;33m(\u001b[0m\u001b[0mextras\u001b[0m \u001b[1;33m+\u001b[0m \u001b[0margs\u001b[0m\u001b[1;33m)\u001b[0m\u001b[1;33m,\u001b[0m \u001b[1;33m**\u001b[0m\u001b[0mkw\u001b[0m\u001b[1;33m)\u001b[0m\u001b[1;33m\u001b[0m\u001b[1;33m\u001b[0m\u001b[0m\n\u001b[0m\u001b[0;32m    233\u001b[0m     \u001b[0mfun\u001b[0m\u001b[1;33m.\u001b[0m\u001b[0m__name__\u001b[0m \u001b[1;33m=\u001b[0m \u001b[0mfunc\u001b[0m\u001b[1;33m.\u001b[0m\u001b[0m__name__\u001b[0m\u001b[1;33m\u001b[0m\u001b[1;33m\u001b[0m\u001b[0m\n\u001b[0;32m    234\u001b[0m     \u001b[0mfun\u001b[0m\u001b[1;33m.\u001b[0m\u001b[0m__doc__\u001b[0m \u001b[1;33m=\u001b[0m \u001b[0mfunc\u001b[0m\u001b[1;33m.\u001b[0m\u001b[0m__doc__\u001b[0m\u001b[1;33m\u001b[0m\u001b[1;33m\u001b[0m\u001b[0m\n",
      "\u001b[1;32md:\\lab_4\\venv\\lib\\site-packages\\IPython\\core\\magic.py\u001b[0m in \u001b[0;36m<lambda>\u001b[1;34m(f, *a, **k)\u001b[0m\n\u001b[0;32m    185\u001b[0m     \u001b[1;31m# but it's overkill for just that one bit of state.\u001b[0m\u001b[1;33m\u001b[0m\u001b[1;33m\u001b[0m\u001b[1;33m\u001b[0m\u001b[0m\n\u001b[0;32m    186\u001b[0m     \u001b[1;32mdef\u001b[0m \u001b[0mmagic_deco\u001b[0m\u001b[1;33m(\u001b[0m\u001b[0marg\u001b[0m\u001b[1;33m)\u001b[0m\u001b[1;33m:\u001b[0m\u001b[1;33m\u001b[0m\u001b[1;33m\u001b[0m\u001b[0m\n\u001b[1;32m--> 187\u001b[1;33m         \u001b[0mcall\u001b[0m \u001b[1;33m=\u001b[0m \u001b[1;32mlambda\u001b[0m \u001b[0mf\u001b[0m\u001b[1;33m,\u001b[0m \u001b[1;33m*\u001b[0m\u001b[0ma\u001b[0m\u001b[1;33m,\u001b[0m \u001b[1;33m**\u001b[0m\u001b[0mk\u001b[0m\u001b[1;33m:\u001b[0m \u001b[0mf\u001b[0m\u001b[1;33m(\u001b[0m\u001b[1;33m*\u001b[0m\u001b[0ma\u001b[0m\u001b[1;33m,\u001b[0m \u001b[1;33m**\u001b[0m\u001b[0mk\u001b[0m\u001b[1;33m)\u001b[0m\u001b[1;33m\u001b[0m\u001b[1;33m\u001b[0m\u001b[0m\n\u001b[0m\u001b[0;32m    188\u001b[0m \u001b[1;33m\u001b[0m\u001b[0m\n\u001b[0;32m    189\u001b[0m         \u001b[1;32mif\u001b[0m \u001b[0mcallable\u001b[0m\u001b[1;33m(\u001b[0m\u001b[0marg\u001b[0m\u001b[1;33m)\u001b[0m\u001b[1;33m:\u001b[0m\u001b[1;33m\u001b[0m\u001b[1;33m\u001b[0m\u001b[0m\n",
      "\u001b[1;32md:\\lab_4\\venv\\lib\\site-packages\\IPython\\core\\magics\\execution.py\u001b[0m in \u001b[0;36mtimeit\u001b[1;34m(self, line, cell, local_ns)\u001b[0m\n\u001b[0;32m   1178\u001b[0m             \u001b[1;32mfor\u001b[0m \u001b[0mindex\u001b[0m \u001b[1;32min\u001b[0m \u001b[0mrange\u001b[0m\u001b[1;33m(\u001b[0m\u001b[1;36m0\u001b[0m\u001b[1;33m,\u001b[0m \u001b[1;36m10\u001b[0m\u001b[1;33m)\u001b[0m\u001b[1;33m:\u001b[0m\u001b[1;33m\u001b[0m\u001b[1;33m\u001b[0m\u001b[0m\n\u001b[0;32m   1179\u001b[0m                 \u001b[0mnumber\u001b[0m \u001b[1;33m=\u001b[0m \u001b[1;36m10\u001b[0m \u001b[1;33m**\u001b[0m \u001b[0mindex\u001b[0m\u001b[1;33m\u001b[0m\u001b[1;33m\u001b[0m\u001b[0m\n\u001b[1;32m-> 1180\u001b[1;33m                 \u001b[0mtime_number\u001b[0m \u001b[1;33m=\u001b[0m \u001b[0mtimer\u001b[0m\u001b[1;33m.\u001b[0m\u001b[0mtimeit\u001b[0m\u001b[1;33m(\u001b[0m\u001b[0mnumber\u001b[0m\u001b[1;33m)\u001b[0m\u001b[1;33m\u001b[0m\u001b[1;33m\u001b[0m\u001b[0m\n\u001b[0m\u001b[0;32m   1181\u001b[0m                 \u001b[1;32mif\u001b[0m \u001b[0mtime_number\u001b[0m \u001b[1;33m>=\u001b[0m \u001b[1;36m0.2\u001b[0m\u001b[1;33m:\u001b[0m\u001b[1;33m\u001b[0m\u001b[1;33m\u001b[0m\u001b[0m\n\u001b[0;32m   1182\u001b[0m                     \u001b[1;32mbreak\u001b[0m\u001b[1;33m\u001b[0m\u001b[1;33m\u001b[0m\u001b[0m\n",
      "\u001b[1;32md:\\lab_4\\venv\\lib\\site-packages\\IPython\\core\\magics\\execution.py\u001b[0m in \u001b[0;36mtimeit\u001b[1;34m(self, number)\u001b[0m\n\u001b[0;32m    167\u001b[0m         \u001b[0mgc\u001b[0m\u001b[1;33m.\u001b[0m\u001b[0mdisable\u001b[0m\u001b[1;33m(\u001b[0m\u001b[1;33m)\u001b[0m\u001b[1;33m\u001b[0m\u001b[1;33m\u001b[0m\u001b[0m\n\u001b[0;32m    168\u001b[0m         \u001b[1;32mtry\u001b[0m\u001b[1;33m:\u001b[0m\u001b[1;33m\u001b[0m\u001b[1;33m\u001b[0m\u001b[0m\n\u001b[1;32m--> 169\u001b[1;33m             \u001b[0mtiming\u001b[0m \u001b[1;33m=\u001b[0m \u001b[0mself\u001b[0m\u001b[1;33m.\u001b[0m\u001b[0minner\u001b[0m\u001b[1;33m(\u001b[0m\u001b[0mit\u001b[0m\u001b[1;33m,\u001b[0m \u001b[0mself\u001b[0m\u001b[1;33m.\u001b[0m\u001b[0mtimer\u001b[0m\u001b[1;33m)\u001b[0m\u001b[1;33m\u001b[0m\u001b[1;33m\u001b[0m\u001b[0m\n\u001b[0m\u001b[0;32m    170\u001b[0m         \u001b[1;32mfinally\u001b[0m\u001b[1;33m:\u001b[0m\u001b[1;33m\u001b[0m\u001b[1;33m\u001b[0m\u001b[0m\n\u001b[0;32m    171\u001b[0m             \u001b[1;32mif\u001b[0m \u001b[0mgcold\u001b[0m\u001b[1;33m:\u001b[0m\u001b[1;33m\u001b[0m\u001b[1;33m\u001b[0m\u001b[0m\n",
      "\u001b[1;32m<magic-timeit>\u001b[0m in \u001b[0;36minner\u001b[1;34m(_it, _timer)\u001b[0m\n",
      "\u001b[1;32m~\\AppData\\Local\\Temp/ipykernel_21428/4284184948.py\u001b[0m in \u001b[0;36mnumpy_5\u001b[1;34m()\u001b[0m\n\u001b[0;32m      1\u001b[0m \u001b[1;32mdef\u001b[0m \u001b[0mnumpy_5\u001b[0m\u001b[1;33m(\u001b[0m\u001b[1;33m)\u001b[0m\u001b[1;33m:\u001b[0m\u001b[1;33m\u001b[0m\u001b[1;33m\u001b[0m\u001b[0m\n\u001b[1;32m----> 2\u001b[1;33m     \u001b[0mmyImage\u001b[0m \u001b[1;33m=\u001b[0m \u001b[0mImage\u001b[0m\u001b[1;33m.\u001b[0m\u001b[0mopen\u001b[0m\u001b[1;33m(\u001b[0m\u001b[1;34m'img.jpg'\u001b[0m\u001b[1;33m)\u001b[0m\u001b[1;33m\u001b[0m\u001b[1;33m\u001b[0m\u001b[0m\n\u001b[0m\u001b[0;32m      3\u001b[0m     \u001b[0mnp_im\u001b[0m\u001b[1;33m,\u001b[0m \u001b[0mgrey\u001b[0m \u001b[1;33m=\u001b[0m \u001b[0mnp\u001b[0m\u001b[1;33m.\u001b[0m\u001b[0marray\u001b[0m\u001b[1;33m(\u001b[0m\u001b[0mmyImage\u001b[0m\u001b[1;33m)\u001b[0m\u001b[1;33m,\u001b[0m \u001b[0mnp\u001b[0m\u001b[1;33m.\u001b[0m\u001b[0marray\u001b[0m\u001b[1;33m(\u001b[0m\u001b[1;33m[\u001b[0m\u001b[1;36m0.299\u001b[0m\u001b[1;33m,\u001b[0m \u001b[1;36m0.587\u001b[0m\u001b[1;33m,\u001b[0m \u001b[1;36m0.114\u001b[0m\u001b[1;33m]\u001b[0m\u001b[1;33m)\u001b[0m\u001b[1;33m\u001b[0m\u001b[1;33m\u001b[0m\u001b[0m\n\u001b[0;32m      4\u001b[0m     \u001b[0mnew_image\u001b[0m \u001b[1;33m=\u001b[0m \u001b[0mImage\u001b[0m\u001b[1;33m.\u001b[0m\u001b[0mfromarray\u001b[0m\u001b[1;33m(\u001b[0m\u001b[0mnp\u001b[0m\u001b[1;33m.\u001b[0m\u001b[0mdot\u001b[0m\u001b[1;33m(\u001b[0m\u001b[0mnp_im\u001b[0m\u001b[1;33m,\u001b[0m \u001b[0mgrey\u001b[0m\u001b[1;33m)\u001b[0m\u001b[1;33m)\u001b[0m\u001b[1;33m\u001b[0m\u001b[1;33m\u001b[0m\u001b[0m\n\u001b[0;32m      5\u001b[0m     \u001b[1;32mreturn\u001b[0m \u001b[0mnew_image\u001b[0m\u001b[1;33m\u001b[0m\u001b[1;33m\u001b[0m\u001b[0m\n",
      "\u001b[1;32md:\\lab_4\\venv\\lib\\site-packages\\PIL\\Image.py\u001b[0m in \u001b[0;36mopen\u001b[1;34m(fp, mode, formats)\u001b[0m\n\u001b[0;32m   2973\u001b[0m \u001b[1;33m\u001b[0m\u001b[0m\n\u001b[0;32m   2974\u001b[0m     \u001b[1;32mif\u001b[0m \u001b[0mfilename\u001b[0m\u001b[1;33m:\u001b[0m\u001b[1;33m\u001b[0m\u001b[1;33m\u001b[0m\u001b[0m\n\u001b[1;32m-> 2975\u001b[1;33m         \u001b[0mfp\u001b[0m \u001b[1;33m=\u001b[0m \u001b[0mbuiltins\u001b[0m\u001b[1;33m.\u001b[0m\u001b[0mopen\u001b[0m\u001b[1;33m(\u001b[0m\u001b[0mfilename\u001b[0m\u001b[1;33m,\u001b[0m \u001b[1;34m\"rb\"\u001b[0m\u001b[1;33m)\u001b[0m\u001b[1;33m\u001b[0m\u001b[1;33m\u001b[0m\u001b[0m\n\u001b[0m\u001b[0;32m   2976\u001b[0m         \u001b[0mexclusive_fp\u001b[0m \u001b[1;33m=\u001b[0m \u001b[1;32mTrue\u001b[0m\u001b[1;33m\u001b[0m\u001b[1;33m\u001b[0m\u001b[0m\n\u001b[0;32m   2977\u001b[0m \u001b[1;33m\u001b[0m\u001b[0m\n",
      "\u001b[1;31mFileNotFoundError\u001b[0m: [Errno 2] No such file or directory: 'img.jpg'"
     ]
    }
   ],
   "source": [
    "%timeit numpy_5()\n",
    "%timeit standart_5()\n",
    "%timeit outher_5()"
   ]
  },
  {
   "cell_type": "code",
   "execution_count": 13,
   "id": "ef0dce7a-e73f-4e46-8167-3090d67883e1",
   "metadata": {},
   "outputs": [],
   "source": [
    "def numpy_5():\n",
    "    myImage = Image.open('img.png')\n",
    "    np_im, grey = np.array(myImage), np.array([0.299, 0.587, 0.114])\n",
    "    new_image = Image.fromarray(np.dot(np_im, grey))\n",
    "    return new_image\n",
    "    \n",
    "def standart_5():\n",
    "    myImage = Image.open('img.png')\n",
    "    pixels = myImage.load()\n",
    "    width, height = myImage.size\n",
    "    for x in range(width):\n",
    "        for y in range(height):\n",
    "            R, G, B = pixels[x, y]\n",
    "            S = round(0.299 * R + 0.587 * G + 0.114 * B)\n",
    "            myImage.putpixel((x, y), (S, S, S))\n",
    "    return myImage\n",
    "\n",
    "def outher_5():\n",
    "    myImage = Image.open('img.png')\n",
    "    pixels = np.array(myImage)\n",
    "    height, width = len(pixels), len(pixels[0])\n",
    "    for x in range(height):\n",
    "        for y in range(width):\n",
    "            S = round(0.299 * pixels[x, y][0] + 0.587 * pixels[x, y][1] + 0.114 * pixels[x, y][2])\n",
    "            pixels[x, y] = [S, S, S]\n",
    "    myImage = Image.fromarray(pixels)\n",
    "    return myImage"
   ]
  },
  {
   "cell_type": "code",
   "execution_count": 14,
   "id": "edcb4703-c64c-4bdc-9236-196dc93e1b87",
   "metadata": {},
   "outputs": [
    {
     "name": "stdout",
     "output_type": "stream",
     "text": [
      "9.55 ms ± 288 µs per loop (mean ± std. dev. of 7 runs, 100 loops each)\n",
      "236 ms ± 16.1 ms per loop (mean ± std. dev. of 7 runs, 1 loop each)\n",
      "1.45 s ± 46.3 ms per loop (mean ± std. dev. of 7 runs, 1 loop each)\n"
     ]
    }
   ],
   "source": [
    "%timeit numpy_5()\n",
    "%timeit standart_5()\n",
    "%timeit outher_5()"
   ]
  },
  {
   "cell_type": "code",
   "execution_count": 15,
   "id": "0aed286c-9c54-4d8e-9ff1-67df501f8833",
   "metadata": {},
   "outputs": [],
   "source": [
    "def numpy_6():\n",
    "    x = np.array([2, 2, 2, 3, 3, 5])\n",
    "    return np.unique(np.array(x), return_counts=True)\n",
    "    \n",
    "def standart_6():\n",
    "    x = [2, 2, 2, 3, 3, 5]\n",
    "    values = list(set(x))\n",
    "    return [values, [x.count(value) for value in values]]\n",
    "\n",
    "@njit\n",
    "def numba_6():\n",
    "    x = [2, 2, 2, 3, 3, 5]\n",
    "    values = list(set(x))\n",
    "    return [values, [x.count(value) for value in values]]"
   ]
  },
  {
   "cell_type": "code",
   "execution_count": 16,
   "id": "f3664965-677c-4eae-9d0f-2cd27bb5c34a",
   "metadata": {},
   "outputs": [
    {
     "name": "stdout",
     "output_type": "stream",
     "text": [
      "13.5 µs ± 326 ns per loop (mean ± std. dev. of 7 runs, 100000 loops each)\n",
      "749 ns ± 8.41 ns per loop (mean ± std. dev. of 7 runs, 1000000 loops each)\n",
      "The slowest run took 10.23 times longer than the fastest. This could mean that an intermediate result is being cached.\n",
      "3.34 µs ± 4.09 µs per loop (mean ± std. dev. of 7 runs, 1 loop each)\n"
     ]
    }
   ],
   "source": [
    "%timeit numpy_6()\n",
    "%timeit standart_6()\n",
    "%timeit numba_6()"
   ]
  },
  {
   "cell_type": "code",
   "execution_count": 17,
   "id": "b7fac5fe-196f-4110-a83a-5527e5c40277",
   "metadata": {},
   "outputs": [],
   "source": [
    "def numpy_7():\n",
    "    x = np.array([2, 7, 6, 6, 9, 6, 3, 4, 9])\n",
    "    y = np.array([1, 0, 0, 7, 2, 2, 4, 3, 0])\n",
    "    return np.linalg.norm(x - y)\n",
    "    \n",
    "def standart_7():\n",
    "    x = [2, 7, 6, 6, 9, 6, 3, 4, 9]\n",
    "    y = [1, 0, 0, 7, 2, 2, 4, 3, 0]\n",
    "    return math.sqrt(sum([(x[ind] - y[ind]) ** 2 for ind in range(len(x))]))\n",
    "\n",
    "@njit\n",
    "def numba_7():\n",
    "    x = [2, 7, 6, 6, 9, 6, 3, 4, 9]\n",
    "    y = [1, 0, 0, 7, 2, 2, 4, 3, 0]\n",
    "    return math.sqrt(sum([(x[ind] - y[ind]) ** 2 for ind in range(len(x))]))"
   ]
  },
  {
   "cell_type": "code",
   "execution_count": 18,
   "id": "8cd64213-baca-445e-ace3-58c407832b54",
   "metadata": {},
   "outputs": [
    {
     "name": "stdout",
     "output_type": "stream",
     "text": [
      "7.09 µs ± 322 ns per loop (mean ± std. dev. of 7 runs, 100000 loops each)\n",
      "2.44 µs ± 56.6 ns per loop (mean ± std. dev. of 7 runs, 100000 loops each)\n",
      "The slowest run took 9.07 times longer than the fastest. This could mean that an intermediate result is being cached.\n",
      "3.24 µs ± 3.88 µs per loop (mean ± std. dev. of 7 runs, 1 loop each)\n"
     ]
    }
   ],
   "source": [
    "%timeit numpy_7()\n",
    "%timeit standart_7()\n",
    "%timeit numba_7()"
   ]
  },
  {
   "cell_type": "code",
   "execution_count": 19,
   "id": "79006829-9e77-46a1-ae21-a29402c85bd2",
   "metadata": {},
   "outputs": [],
   "source": [
    "N, D = 5, 6\n",
    "X, cov, m = np.random.rand(N, D), np.random.rand(D, D), np.random.rand(D)\n",
    "\n",
    "def numpy_8():\n",
    "    return np.random.multivariate_normal(mean = m, cov = cov)\n",
    "\n",
    "def scipy_8():\n",
    "     return [multivariate_normal(mean = 1, cov = 1).pdf(x) for x in X]"
   ]
  },
  {
   "cell_type": "code",
   "execution_count": 20,
   "id": "734b3d30-d463-462a-b5eb-74d808ec5883",
   "metadata": {},
   "outputs": [
    {
     "name": "stderr",
     "output_type": "stream",
     "text": [
      "C:\\Users\\ASUS\\AppData\\Local\\Temp/ipykernel_21428/1735947520.py:5: RuntimeWarning: covariance is not positive-semidefinite.\n",
      "  return np.random.multivariate_normal(mean = m, cov = cov)\n"
     ]
    },
    {
     "name": "stdout",
     "output_type": "stream",
     "text": [
      "79.2 µs ± 3.8 µs per loop (mean ± std. dev. of 7 runs, 10000 loops each)\n",
      "537 µs ± 17.8 µs per loop (mean ± std. dev. of 7 runs, 1000 loops each)\n"
     ]
    }
   ],
   "source": [
    "%timeit numpy_8()\n",
    "%timeit scipy_8()"
   ]
  },
  {
   "cell_type": "code",
   "execution_count": null,
   "id": "d3c087ee-f923-4bc4-8dc0-96f1ef6b297e",
   "metadata": {},
   "outputs": [],
   "source": []
  }
 ],
 "metadata": {
  "kernelspec": {
   "display_name": "Python 3 (ipykernel)",
   "language": "python",
   "name": "python3"
  },
  "language_info": {
   "codemirror_mode": {
    "name": "ipython",
    "version": 3
   },
   "file_extension": ".py",
   "mimetype": "text/x-python",
   "name": "python",
   "nbconvert_exporter": "python",
   "pygments_lexer": "ipython3",
   "version": "3.9.5"
  }
 },
 "nbformat": 4,
 "nbformat_minor": 5
}
