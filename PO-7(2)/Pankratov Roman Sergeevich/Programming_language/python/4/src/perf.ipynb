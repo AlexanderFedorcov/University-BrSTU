{
 "cells": [
  {
   "cell_type": "code",
   "execution_count": 5,
   "id": "0737f0a9-a42c-4999-86b1-3d347a7a3cfc",
   "metadata": {},
   "outputs": [],
   "source": [
    "import numpy as np\n",
    "import matplotlib.pyplot as plt\n",
    "import scipy\n",
    "import scipy.spatial\n",
    "from functools import reduce\n",
    "from collections import Counter\n",
    "from math import sqrt\n",
    "import scipy.sparse as sp\n",
    "import scipy.sparse.linalg as spln\n",
    "from scipy.stats import multivariate_normal"
   ]
  },
  {
   "cell_type": "code",
   "execution_count": 2,
   "id": "7c67056a-b54d-4ee3-9477-21f952c789f5",
   "metadata": {},
   "outputs": [
    {
     "name": "stdout",
     "output_type": "stream",
     "text": [
      "py: 282 ns ± 0.35 ns per loop (mean ± std. dev. of 7 runs, 1000000 loops each)\n",
      "py_2: 529 ns ± 2.34 ns per loop (mean ± std. dev. of 7 runs, 1000000 loops each)\n",
      "np: 3.2 µs ± 42.6 ns per loop (mean ± std. dev. of 7 runs, 100000 loops each)\n"
     ]
    }
   ],
   "source": [
    "arr_py = [[1, 0, 1], [2, 0, 2], [3, 0, 3], [4, 4, 4]]\n",
    "arr_np = np.array(arr_py)\n",
    "\n",
    "\n",
    "def task1_py(arr):\n",
    "    prod = 1\n",
    "    for i in range(len(arr[0])):\n",
    "        el = arr[i][i]\n",
    "        if el:\n",
    "            prod *= el\n",
    "    return prod\n",
    "\n",
    "def task1_py_pretty(arr):\n",
    "    return reduce(\n",
    "        lambda count, item: count * item,\n",
    "        (el for i in range(len(arr[0])) if (el := arr[i][i]))\n",
    "    )\n",
    "\n",
    "def task1_np(arr):\n",
    "    dig = np.diag(arr)\n",
    "    return np.prod(dig[dig != 0])\n",
    "\n",
    "\n",
    "print(\"py:\", end=\" \")\n",
    "%timeit task1_py(arr_py)\n",
    "print(\"py_2:\", end=\" \")\n",
    "%timeit task1_py_pretty(arr_py)\n",
    "print(\"np:\", end=\" \")\n",
    "%timeit task1_np(arr_np)"
   ]
  },
  {
   "cell_type": "code",
   "execution_count": 3,
   "id": "23f6485a-9631-4bea-90ec-3a8d7e1f117b",
   "metadata": {},
   "outputs": [
    {
     "name": "stdout",
     "output_type": "stream",
     "text": [
      "py: 381 ns ± 1.69 ns per loop (mean ± std. dev. of 7 runs, 1000000 loops each)\n",
      "py_2: 370 ns ± 0.859 ns per loop (mean ± std. dev. of 7 runs, 1000000 loops each)\n",
      "np: 550 ns ± 5.03 ns per loop (mean ± std. dev. of 7 runs, 1000000 loops each)\n"
     ]
    }
   ],
   "source": [
    "arr_py_2 = [[9, 4, 2], [6, 0, 0], [9, 9, 3]]\n",
    "i_py = [1, 2, 1]\n",
    "j_py = [1, 0, 1]\n",
    "\n",
    "arr_np_2 = np.array(arr_py_2)\n",
    "i_np = np.array(i_py)\n",
    "j_np = np.array(j_py)\n",
    "\n",
    "\n",
    "def task2_py(arr, i, j):\n",
    "    res_arr = []\n",
    "    for index in range(len(i)):\n",
    "        res_arr.append(arr[i[index]][j[index]])\n",
    "    return res_arr\n",
    "                               \n",
    "def task2_py_pretty(arr, i, j):\n",
    "    return [arr[i][j] for i, j in zip(i, j)]\n",
    "\n",
    "def task2_np(arr, i, j):\n",
    "    return arr[i,j]\n",
    "\n",
    "\n",
    "print(\"py:\", end=\" \")\n",
    "%timeit task2_py(arr_py_2, i_py, j_py)\n",
    "print(\"py_2:\", end=\" \")\n",
    "%timeit task2_py_pretty(arr_py_2, i_py, j_py)\n",
    "print(\"np:\", end=\" \")\n",
    "%timeit task2_np(arr_np_2, i_np, j_np)"
   ]
  },
  {
   "cell_type": "code",
   "execution_count": 4,
   "id": "307c553d-ab86-4fc9-a923-b1cf678fae31",
   "metadata": {},
   "outputs": [
    {
     "name": "stdout",
     "output_type": "stream",
     "text": [
      "py: 540 µs ± 16.5 µs per loop (mean ± std. dev. of 7 runs, 1000 loops each)\n",
      "py_2: 291 µs ± 9.93 µs per loop (mean ± std. dev. of 7 runs, 1000 loops each)\n",
      "np: 22 µs ± 209 ns per loop (mean ± std. dev. of 7 runs, 10000 loops each)\n"
     ]
    }
   ],
   "source": [
    "from random import randint\n",
    "\n",
    "x_np = np.array(x_py)\n",
    "y_np = np.array(y_py)\n",
    "\n",
    "\n",
    "def task3_py(arr1, arr2):\n",
    "    return sorted(arr1) == sorted(arr2)\n",
    "\n",
    "\n",
    "def task3_py_2(arr1, arr2):\n",
    "    return Counter(arr1) == Counter(arr2)\n",
    "\n",
    "\n",
    "def task3_np(arr1, arr2):\n",
    "    return np.array_equal(np.bincount(arr1), np.bincount(arr2))\n",
    "\n",
    "\n",
    "print(\"py:\", end=\" \")\n",
    "%timeit task3_py(x_py, y_py)\n",
    "print(\"py_2:\", end=\" \")\n",
    "%timeit task3_py_2(x_py, y_py)\n",
    "print(\"np:\", end=\" \")\n",
    "%timeit task3_np(x_np, y_np)"
   ]
  },
  {
   "cell_type": "code",
   "execution_count": 80,
   "id": "3012a7d0-411e-4a6e-a45e-981dc9e3ec63",
   "metadata": {},
   "outputs": [
    {
     "name": "stdout",
     "output_type": "stream",
     "text": [
      "py: 2.3 µs ± 12.1 ns per loop (mean ± std. dev. of 7 runs, 100000 loops each)\n",
      "py_2: 13.1 µs ± 43.8 ns per loop (mean ± std. dev. of 7 runs, 100000 loops each)\n",
      "np: 4.92 µs ± 15 ns per loop (mean ± std. dev. of 7 runs, 100000 loops each)\n"
     ]
    }
   ],
   "source": [
    "x_py = [6, 2, 0, 3, 0, 0, 5, 7, 0]\n",
    "\n",
    "x_np = np.array(x_py)\n",
    "\n",
    "\n",
    "def task4_py(arr):\n",
    "    counter = 0\n",
    "    for i in range(1, len(arr)):\n",
    "        if not arr[i-1]:\n",
    "            continue\n",
    "        \n",
    "        new_el = arr[i]\n",
    "        if new_el > counter:\n",
    "            counter = new_el\n",
    "    return counter\n",
    "\n",
    "def task4_py_2(arr):\n",
    "    return max(arr[i] for i in range(1, len(arr)) if not arr[i-1])\n",
    "\n",
    "def task4_np(arr):\n",
    "    zero = arr==0\n",
    "    return arr[1:][zero[:-1]].max()\n",
    "\n",
    "\n",
    "print(\"py:\", end=\" \")\n",
    "%timeit task4_py(x_py)\n",
    "print(\"py_2:\", end=\" \")\n",
    "%timeit task4_py_2(x_py)\n",
    "print(\"np:\", end=\" \")\n",
    "%timeit task4_np(x_np)"
   ]
  },
  {
   "cell_type": "code",
   "execution_count": 79,
   "id": "c730eca7-6d79-4fe4-8d9a-278409943236",
   "metadata": {},
   "outputs": [
    {
     "name": "stdout",
     "output_type": "stream",
     "text": [
      "py: 1.83 s ± 2.95 ms per loop (mean ± std. dev. of 7 runs, 1 loop each)\n",
      "py_2: 4.61 s ± 7.35 ms per loop (mean ± std. dev. of 7 runs, 1 loop each)\n",
      "np: 53.4 ms ± 1.24 ms per loop (mean ± std. dev. of 7 runs, 10 loops each)\n"
     ]
    }
   ],
   "source": [
    "photo_array = plt.imread(\"./img.png\")\n",
    "photo_array_py = photo_array.tolist()\n",
    "rgb_ration_py = [0.2989, 0.587, 0.114]\n",
    "rgb_ration = np.array(rgb_ration_py)\n",
    "\n",
    "\n",
    "def task5_py(arr, rgb_ration):\n",
    "    result_arr = []\n",
    "    for height in arr:\n",
    "        new_width = []\n",
    "        for width in height:\n",
    "            color = 0\n",
    "            for i in range(3):\n",
    "                color += width[i] * rgb_ration[i]\n",
    "            new_width.append(color)\n",
    "        result_arr.append(new_width)\n",
    "\n",
    "    return result_arr\n",
    "\n",
    "def task5_py_pretty(arr, rgb_ration):\n",
    "    return [\n",
    "        [reduce(lambda counter, el: counter + (el[0]*el[1]), zip(rgb_ration, width), 0) for width in height] \n",
    "        for height in arr\n",
    "    ]\n",
    "    \n",
    "def task5_np(arr, rgb_ration):\n",
    "    return np.dot(arr[...,:3], rgb_ration)\n",
    "\n",
    "\n",
    "# arr_py = task5_np(photo_array, rgb_ration)\n",
    "# plt.imshow(arr_py, cmap='gray')\n",
    "# plt.show()\n",
    "\n",
    "print(\"py:\", end=\" \")\n",
    "%timeit task5_py(photo_array_py, rgb_ration_py)\n",
    "print(\"py_2:\", end=\" \")\n",
    "%timeit task5_py_pretty(photo_array_py, rgb_ration_py)\n",
    "print(\"np:\", end=\" \")\n",
    "%timeit task5_np(photo_array, rgb_ration)"
   ]
  },
  {
   "cell_type": "code",
   "execution_count": 76,
   "id": "6e54ef63-dfb5-470b-a5a9-469c93eff932",
   "metadata": {},
   "outputs": [
    {
     "name": "stdout",
     "output_type": "stream",
     "text": [
      "py: 1.36 µs ± 11.4 ns per loop (mean ± std. dev. of 7 runs, 1000000 loops each)\n",
      "py_2: 1.59 µs ± 16.5 ns per loop (mean ± std. dev. of 7 runs, 1000000 loops each)\n",
      "np: 2.05 µs ± 25.8 ns per loop (mean ± std. dev. of 7 runs, 100000 loops each)\n"
     ]
    }
   ],
   "source": [
    "from random import randint\n",
    "\n",
    "arr_py = [2, 2, 2, 3, 3, 3, 5]\n",
    "arr_np = np.array(arr_py)\n",
    "\n",
    "\n",
    "def task6_py(arr):\n",
    "    bin_arr = [0 for _ in range(max(arr)+1)]\n",
    "    for item in arr:\n",
    "        bin_arr[item] += 1\n",
    "    \n",
    "    arr1, arr2 = [], []\n",
    "    for i in range(len(bin_arr)):\n",
    "        element = bin_arr[i]\n",
    "        if not element:\n",
    "            continue\n",
    "        \n",
    "        arr1.append(i)\n",
    "        arr2.append(element)\n",
    "    return arr1, arr2\n",
    "\n",
    "def task6_py_pretty(arr):\n",
    "    return tuple(zip(*Counter(arr).items()))\n",
    "\n",
    "def task6_np(arr):\n",
    "    bin_count = np.bincount(arr)\n",
    "    non_zero_indexes = np.nonzero(bin_count)[0]\n",
    "    return non_zero_indexes, bin_count[non_zero_indexes]\n",
    "\n",
    "\n",
    "print(\"py:\", end=\" \")\n",
    "%timeit task6_py(arr_py)\n",
    "print(\"py_2:\", end=\" \")\n",
    "%timeit task6_py_pretty(arr_py)\n",
    "print(\"np:\", end=\" \")\n",
    "%timeit task6_np(arr_np)"
   ]
  },
  {
   "cell_type": "code",
   "execution_count": 52,
   "id": "e6221740-6fbe-4217-9f0c-2ef0e3a3ce7f",
   "metadata": {},
   "outputs": [
    {
     "name": "stdout",
     "output_type": "stream",
     "text": [
      "py: 247 ns ± 1.03 ns per loop (mean ± std. dev. of 7 runs, 1000000 loops each)\n",
      "py_2: 37.1 µs ± 1.02 µs per loop (mean ± std. dev. of 7 runs, 10000 loops each)\n",
      "scipy: 16.6 µs ± 302 ns per loop (mean ± std. dev. of 7 runs, 100000 loops each)\n",
      "np: 9.29 µs ± 16.4 ns per loop (mean ± std. dev. of 7 runs, 100000 loops each)\n"
     ]
    }
   ],
   "source": [
    "arr_x_py = [2, 7, 6, 6, 9, 6, 3, 4, 9]\n",
    "arr_y_py = [1, 0, 0, 7, 2, 2, 4, 3, 0]\n",
    "\n",
    "arr_x_np = np.array(arr_x_py)\n",
    "arr_y_np = np.array(arr_y_py)\n",
    "\n",
    "\n",
    "def task_7_py_pretty(arr_x, arr_y):\n",
    "    return sqrt(sum((x - y) ** 2.0 for x, y in zip(arr_x, arr_y)))\n",
    "\n",
    "def task_7_np(arr_x, arr_y):\n",
    "    return np.linalg.norm(arr_x - arr_y)\n",
    "\n",
    "\n",
    "print(\"py:\", end=\" \")\n",
    "%timeit dist(arr_x_py, arr_y_py)\n",
    "print(\"py_2:\", end=\" \")\n",
    "%timeit task_7_py_pretty(arr_x_py, arr_y_py)\n",
    "print(\"scipy:\", end=\" \")\n",
    "%timeit scipy.spatial.distance.euclidean(arr_x_np, arr_y_np)\n",
    "print(\"np:\", end=\" \")\n",
    "%timeit task_7_np(arr_x_np, arr_y_np)"
   ]
  },
  {
   "cell_type": "code",
   "execution_count": 8,
   "id": "bccb9fda-1e33-435a-9833-cb4447bad652",
   "metadata": {},
   "outputs": [
    {
     "name": "stdout",
     "output_type": "stream",
     "text": [
      "np: 159 µs ± 2.44 µs per loop (mean ± std. dev. of 7 runs, 10000 loops each)\n",
      "np_2: 160 µs ± 2.09 µs per loop (mean ± std. dev. of 7 runs, 10000 loops each)\n",
      "scipy: 117 µs ± 3.01 µs per loop (mean ± std. dev. of 7 runs, 10000 loops each)\n"
     ]
    }
   ],
   "source": [
    "sigma = np.array([\n",
    "    [2.3, 0, 0, 0],\n",
    "    [0, 1.5, 0, 0],\n",
    "    [0, 0, 1.7, 0],\n",
    "    [0, 0, 0, 2]\n",
    "])\n",
    "mu = np.array([2, 3, 8, 10])\n",
    "x = np.array([2.1, 3.5, 8, 9.5])\n",
    "\n",
    "\n",
    "def lognormpdf(x,mu,S):\n",
    "    norm_coeff = len(S)*np.log(2*np.pi)+np.linalg.slogdet(S)[1]\n",
    "    err = x-mu\n",
    "    numerator = spln.spsolve(S, err).T.dot(err)\n",
    "    return -0.5*(norm_coeff+numerator)\n",
    "\n",
    "\n",
    "def lognormpdf_2(x,mu,S):\n",
    "    return -0.5*(len(S)*np.log(2*np.pi)+np.linalg.slogdet(S)[1]+spln.spsolve(S, x-mu).T.dot(x-mu))\n",
    "\n",
    "\n",
    "print(\"np:\", end=\" \")\n",
    "%timeit lognormpdf(x, mu, sigma)\n",
    "print(\"np_2:\", end=\" \")\n",
    "%timeit lognormpdf_2(x, mu, sigma)\n",
    "print(\"scipy:\", end=\" \")\n",
    "%timeit multivariate_normal(mu, sigma).logpdf(x)"
   ]
  },
  {
   "cell_type": "code",
   "execution_count": null,
   "id": "db37e510-1655-4b17-844e-9f276c4ca278",
   "metadata": {},
   "outputs": [],
   "source": []
  }
 ],
 "metadata": {
  "kernelspec": {
   "display_name": "Python 3 (ipykernel)",
   "language": "python",
   "name": "python3"
  },
  "language_info": {
   "codemirror_mode": {
    "name": "ipython",
    "version": 3
   },
   "file_extension": ".py",
   "mimetype": "text/x-python",
   "name": "python",
   "nbconvert_exporter": "python",
   "pygments_lexer": "ipython3",
   "version": "3.9.5"
  }
 },
 "nbformat": 4,
 "nbformat_minor": 5
}
